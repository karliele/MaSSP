{
 "cells": [
  {
   "cell_type": "code",
   "execution_count": null,
   "metadata": {},
   "outputs": [],
   "source": [
    "import numpy as np \n",
    "from scipy import misc     \n",
    "import matplotlib.pyplot as plt# for loading image"
   ]
  },
  {
   "cell_type": "code",
   "execution_count": null,
   "metadata": {},
   "outputs": [],
   "source": []
  },
  {
   "cell_type": "code",
   "execution_count": null,
   "metadata": {},
   "outputs": [],
   "source": [
    "import numpy as np\n",
    "from scipy import misc                     # for loading image\n",
    "np.random.seed(1)\n",
    "import math  \n",
    "\n",
    "# filename structure\n",
    "path = 'D:/YALE/unpadded/' # path to the database\n",
    "ids = range(1, 16) # 15 persons\n",
    "states = ['centerlight', 'glasses', 'happy', 'leftlight',\n",
    "          'noglasses', 'normal', 'rightlight','sad',\n",
    "          'sleepy', 'surprised', 'wink' ]\n",
    "prefix = 'subject'\n",
    "surfix = '.pgm'\n",
    "\n",
    "# data dimension\n",
    "h = 116 # height\n",
    "w = 98 # width\n",
    "D = h * w #pixel\n",
    "N = len(states)*15 \n",
    "K = 100 #number of considered features\n",
    "\n",
    "# collect all data\n",
    "X = np.zeros((D, N)) #create a matrix filled with zeros with D rows, N collumns\n",
    "cnt = 0\n",
    "for person_id in range(1, 16):\n",
    "    for state in states:\n",
    "        fn = path + prefix + str(person_id).zfill(2) + '.' + state + surfix\n",
    "        X[:, cnt] = misc.imread(fn).reshape(D) # change 2-dimension matrix to 1-dimension matrix\n",
    "        cnt += 1\n",
    "\n",
    "# Doing PCA, note that each row is a datapoint\n",
    "from sklearn.decomposition import PCA \n",
    "pca = PCA(n_components=K) # K = 100\n",
    "pca.fit(X.T) #fit the model with X.T?\n",
    "\n",
    "# projection matrix\n",
    "U = pca.components_.T "
   ]
  },
  {
   "cell_type": "code",
   "execution_count": null,
   "metadata": {
    "scrolled": false
   },
   "outputs": [],
   "source": [
    "# See reconstruction of first 6 persons \n",
    "for person_id in range(1, 7): #loop\n",
    "    for state in ['centerlight']: \n",
    "        fn = path + prefix + str(person_id).zfill(2) + '.' + state + surfix \n",
    "         #insert zeros to the left of the person_id\n",
    "        im = misc.imread(fn) #read the image\n",
    "        plt.axis('off')  #turn off axis lines and labels (Same as False)\n",
    "    #         plt.imshow(im, interpolation='nearest' )\n",
    "        f1 = plt.imshow(im, interpolation='nearest') # no interpolation\n",
    "        f1.axes.get_xaxis().set_visible(False) #turn off x axis\n",
    "        f1.axes.get_yaxis().set_visible(False) #turn off y axis\n",
    "        plt.gray()\n",
    "        fn = 'ori' + str(person_id).zfill(2) + '.png'\n",
    "        plt.savefig(fn, bbox_inches='tight', pad_inches=0)\n",
    "        plt.show()\n",
    "        # reshape and subtract mean, don't forget \n",
    "        x = im.reshape(D, 1) - pca.mean_.reshape(D, 1)  #original image\n",
    "            # encode\n",
    "        z = U.T.dot(x) #coordinates\n",
    "            #decode\n",
    "        x_tilde = U.dot(z) + pca.mean_.reshape(D, 1) #reconstructed image\n",
    "            # reshape to orginal dim\n",
    "        im_tilde = x_tilde.reshape(116, 98)\n",
    "        plt.axis('off')\n",
    "        #find reconstruction error\n",
    "        dif = 0\n",
    "        for i in range(D):\n",
    "            dif = dif + (x[i]-x_tilde[i])*(x[i]-x_tilde[i])\n",
    "            loss = math.sqrt(dif)\n",
    "        print(loss)\n",
    "#         plt.imshow(im_tilde, interpolation='nearest' ) => visualize\n",
    "            f1 = plt.imshow(im_tilde, interpolation='nearest')\n",
    "            f1.axes.get_xaxis().set_visible(False)\n",
    "            f1.axes.get_yaxis().set_visible(False)\n",
    "            plt.gray()\n",
    "            fn = 'res' + str(person_id).zfill(2) + '.png'\n",
    "            plt.savefig(fn, bbox_inches='tight', pad_inches=0)\n",
    "            plt.show()\n",
    "            print(z) #print coordinates"
   ]
  }
 ],
 "metadata": {
  "kernelspec": {
   "display_name": "Python 3",
   "language": "python",
   "name": "python3"
  },
  "language_info": {
   "codemirror_mode": {
    "name": "ipython",
    "version": 3
   },
   "file_extension": ".py",
   "mimetype": "text/x-python",
   "name": "python",
   "nbconvert_exporter": "python",
   "pygments_lexer": "ipython3",
   "version": "3.7.1"
  }
 },
 "nbformat": 4,
 "nbformat_minor": 2
}
